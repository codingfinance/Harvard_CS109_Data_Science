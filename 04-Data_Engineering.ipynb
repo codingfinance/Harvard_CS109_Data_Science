{
 "cells": [
  {
   "cell_type": "markdown",
   "metadata": {},
   "source": [
    "Scraping Harvard's Wikipedia Page to extract interesting data."
   ]
  },
  {
   "cell_type": "code",
   "execution_count": 1,
   "metadata": {},
   "outputs": [],
   "source": [
    "import requests\n",
    "\n",
    "req = requests.get(\"https://en.wikipedia.org/wiki/Harvard_University\")"
   ]
  },
  {
   "cell_type": "code",
   "execution_count": 2,
   "metadata": {},
   "outputs": [
    {
     "data": {
      "text/plain": [
       "<Response [200]>"
      ]
     },
     "execution_count": 2,
     "metadata": {},
     "output_type": "execute_result"
    }
   ],
   "source": [
    "req"
   ]
  },
  {
   "cell_type": "code",
   "execution_count": 3,
   "metadata": {},
   "outputs": [
    {
     "data": {
      "text/plain": [
       "'<!DOCTYPE html>\\n<html class=\"client-nojs\" lang=\"en\" dir=\"ltr\">\\n<head>\\n<meta charset=\"UTF-8\"/>\\n<title>Harvard University - Wikipedia</title>\\n<script>document.documentElement.className=\"client-js\";RLCONF={\"wgBreakFrames\":!1,\"wgSeparatorTransformTable\":[\"\",\"\"],\"wgDigitTransformTable\":[\"\",\"\"],\"wgDefaultDateFormat\":\"dmy\",\"wgMonthNames\":[\"\",\"January\",\"February\",\"March\",\"April\",\"May\",\"June\",\"July\",\"August\",\"September\",\"October\",\"November\",\"December\"],\"wgMonthNamesShort\":[\"\",\"Jan\",\"Feb\",\"Mar\",\"Apr\",\"May\",\"Jun\",\"Jul\",\"Aug\",\"Sep\",\"Oct\",\"Nov\",\"Dec\"],\"wgRequestId\":\"Xl2WJApAICkAAKnipJgAAAAP\",\"wgCSPNonce\":!1,\"wgCanonicalNamespace\":\"\",\"wgCanonicalSpecialPageName\":!1,\"wgNamespaceNumber\":0,\"wgPageName\":\"Harvard_University\",\"wgTitle\":\"Harvard University\",\"wgCurRevisionId\":942364135,\"wgRevisionId\":942364135,\"wgArticleId\":18426501,\"wgIsArticle\":!0,\"wgIsRedirect\":!1,\"wgAction\":\"view\",\"wgUserName\":null,\"wgUserGroups\":[\"*\"],\"wgCategories\":[\"CS1 maint: location\",\"Webarchive template wayback links\",\"CS1: Julian–Gregorian uncertainty\",\"CS1 errors: missing periodical\",\"Wikipedia indefinitely move-protected pages\",\\n\"Articles with short description\",\"Use American English from February 2019\",\"All Wikipedia articles written in American English\",\"Use mdy dates from July 2018\",\"Wikipedia pages semi-protected against vandalism\",\"Articles containing Latin-language text\",\"Coordinates on Wikidata\",\"Pages using infobox university with the image name parameter\",\"Pages using infobox university with the affiliations parameter\",\"Articles containing potentially dated statements from October 2019\",\"All articles containing potentially dated statements\",\"Wikipedia articles with BNF identifiers\",\"Wikipedia articles with GND identifiers\",\"Wikipedia articles with ISNI identifiers\",\"Wikipedia articles with LCCN identifiers\",\"Wikipedia articles with MusicBrainz place identifiers\",\"Wikipedia articles with NKC identifiers\",\"Wikipedia articles with NLA identifiers\",\"Wikipedia articles with NLI identifiers\",\"Wikipedia a'"
      ]
     },
     "execution_count": 3,
     "metadata": {},
     "output_type": "execute_result"
    }
   ],
   "source": [
    "page = req.text\n",
    "page[:2000]"
   ]
  },
  {
   "cell_type": "code",
   "execution_count": 4,
   "metadata": {},
   "outputs": [],
   "source": [
    "from bs4 import BeautifulSoup"
   ]
  },
  {
   "cell_type": "code",
   "execution_count": 5,
   "metadata": {},
   "outputs": [],
   "source": [
    "soup = BeautifulSoup(page, 'html.parser')"
   ]
  },
  {
   "cell_type": "markdown",
   "metadata": {},
   "source": [
    "Get the title of the website"
   ]
  },
  {
   "cell_type": "code",
   "execution_count": 6,
   "metadata": {},
   "outputs": [
    {
     "data": {
      "text/plain": [
       "<title>Harvard University - Wikipedia</title>"
      ]
     },
     "execution_count": 6,
     "metadata": {},
     "output_type": "execute_result"
    }
   ],
   "source": [
    "soup.title"
   ]
  },
  {
   "cell_type": "code",
   "execution_count": 7,
   "metadata": {},
   "outputs": [
    {
     "data": {
      "text/plain": [
       "84"
      ]
     },
     "execution_count": 7,
     "metadata": {},
     "output_type": "execute_result"
    }
   ],
   "source": [
    "len(soup.find_all('p'))"
   ]
  },
  {
   "cell_type": "markdown",
   "metadata": {},
   "source": [
    "\n",
    "\n",
    "If you look at the Wikipedia page on your browser, you'll notice that it has a couple of tables in it. We will be working with the \"Demographics\" table, but first we need to find it.\n",
    "\n",
    "One of the HTML attributes that will be very useful to us is the \"class\" attribute.\n",
    "\n",
    "Getting the class of a single element is easy...\n"
   ]
  },
  {
   "cell_type": "code",
   "execution_count": 8,
   "metadata": {},
   "outputs": [
    {
     "data": {
      "text/plain": [
       "['infobox', 'vcard']"
      ]
     },
     "execution_count": 8,
     "metadata": {},
     "output_type": "execute_result"
    }
   ],
   "source": [
    "soup.table['class']"
   ]
  },
  {
   "cell_type": "code",
   "execution_count": 9,
   "metadata": {},
   "outputs": [],
   "source": [
    "my_list = [t['class'] for t in soup.find_all('table') if t.get('class')]"
   ]
  },
  {
   "cell_type": "code",
   "execution_count": 10,
   "metadata": {},
   "outputs": [
    {
     "data": {
      "text/plain": [
       "[['infobox', 'vcard'],\n",
       " ['toccolours'],\n",
       " ['infobox'],\n",
       " ['wikitable', 'sortable', 'collapsible', 'collapsed', 'floatright'],\n",
       " ['wikitable', 'sortable', 'collapsible', 'collapsed', 'floatright'],\n",
       " ['wikitable'],\n",
       " ['box-Cleanup_gallery', 'plainlinks', 'metadata', 'ambox', 'ambox-style'],\n",
       " ['metadata', 'mbox-small'],\n",
       " ['nowraplinks', 'mw-collapsible', 'mw-collapsed', 'navbox-inner'],\n",
       " ['nowraplinks', 'navbox-subgroup'],\n",
       " ['nowraplinks', 'navbox-subgroup'],\n",
       " ['nowraplinks', 'mw-collapsible', 'mw-collapsed', 'navbox-inner'],\n",
       " ['nowraplinks', 'mw-collapsible', 'autocollapse', 'navbox-inner'],\n",
       " ['nowraplinks', 'mw-collapsible', 'mw-collapsed', 'navbox-inner'],\n",
       " ['nowraplinks', 'mw-collapsible', 'autocollapse', 'navbox-inner'],\n",
       " ['nowraplinks', 'mw-collapsible', 'autocollapse', 'navbox-inner'],\n",
       " ['nowraplinks', 'mw-collapsible', 'autocollapse', 'navbox-inner'],\n",
       " ['nowraplinks', 'mw-collapsible', 'autocollapse', 'navbox-inner'],\n",
       " ['nowraplinks', 'mw-collapsible', 'autocollapse', 'navbox-inner'],\n",
       " ['nowraplinks', 'mw-collapsible', 'autocollapse', 'navbox-inner'],\n",
       " ['nowraplinks', 'hlist', 'mw-collapsible', 'autocollapse', 'navbox-inner'],\n",
       " ['nowraplinks', 'mw-collapsible', 'autocollapse', 'navbox-inner'],\n",
       " ['nowraplinks', 'mw-collapsible', 'autocollapse', 'navbox-inner'],\n",
       " ['nowraplinks', 'mw-collapsible', 'mw-collapsed', 'navbox-inner'],\n",
       " ['nowraplinks', 'hlist', 'mw-collapsible', 'autocollapse', 'navbox-inner'],\n",
       " ['nowraplinks', 'navbox-subgroup'],\n",
       " ['nowraplinks', 'hlist', 'navbox-inner']]"
      ]
     },
     "execution_count": 10,
     "metadata": {},
     "output_type": "execute_result"
    }
   ],
   "source": [
    "my_list"
   ]
  },
  {
   "cell_type": "code",
   "execution_count": 11,
   "metadata": {
    "scrolled": true
   },
   "outputs": [],
   "source": [
    "table_html = soup.find_all('table', class_ = 'wikitable')"
   ]
  },
  {
   "cell_type": "code",
   "execution_count": 12,
   "metadata": {},
   "outputs": [],
   "source": [
    "from IPython.core.display import HTML"
   ]
  },
  {
   "cell_type": "code",
   "execution_count": 13,
   "metadata": {},
   "outputs": [
    {
     "data": {
      "text/html": [
       "<table class=\"wikitable\" style=\"text-align:center; float:right; font-size:85%; margin-right:2em;\">\n",
       "<caption><i>Demographics of student body (Fall 2019)</i><sup class=\"reference\" id=\"cite_ref-Head_count_155-0\"><a href=\"#cite_note-Head_count-155\">[155]</a></sup><sup class=\"reference\" id=\"cite_ref-156\"><a href=\"#cite_note-156\">[156]</a></sup><sup class=\"reference\" id=\"cite_ref-157\"><a href=\"#cite_note-157\">[157]</a></sup><sup class=\"reference\" id=\"cite_ref-158\"><a href=\"#cite_note-158\">[158]</a></sup>\n",
       "</caption>\n",
       "<tbody><tr>\n",
       "<th></th>\n",
       "<th>Undergrad</th>\n",
       "<th>Grad/prof</th>\n",
       "<th>US census\n",
       "</th></tr>\n",
       "<tr>\n",
       "<th>Asian\n",
       "</th>\n",
       "<td>21%</td>\n",
       "<td>13%</td>\n",
       "<td>5%\n",
       "</td></tr>\n",
       "<tr>\n",
       "<th>Black\n",
       "</th>\n",
       "<td>9%</td>\n",
       "<td>5%</td>\n",
       "<td>12%\n",
       "</td></tr>\n",
       "<tr>\n",
       "<th>Hispanic or Latino\n",
       "</th>\n",
       "<td>11%</td>\n",
       "<td>7%</td>\n",
       "<td>16%\n",
       "</td></tr>\n",
       "<tr>\n",
       "<th>White\n",
       "</th>\n",
       "<td>37%</td>\n",
       "<td>38%</td>\n",
       "<td>64%\n",
       "</td></tr>\n",
       "<tr>\n",
       "<th>Two or more races\n",
       "</th>\n",
       "<td>8%</td>\n",
       "<td>3%</td>\n",
       "<td>9%\n",
       "</td></tr>\n",
       "<tr>\n",
       "<th>International\n",
       "</th>\n",
       "<td>12%</td>\n",
       "<td>32%</td>\n",
       "<td>N/A\n",
       "</td></tr></tbody></table>"
      ],
      "text/plain": [
       "<IPython.core.display.HTML object>"
      ]
     },
     "execution_count": 13,
     "metadata": {},
     "output_type": "execute_result"
    }
   ],
   "source": [
    "my_table = str(table_html[2])\n",
    "HTML(my_table)"
   ]
  },
  {
   "cell_type": "code",
   "execution_count": 14,
   "metadata": {},
   "outputs": [],
   "source": [
    "rows = [row for row in soup.find_all('table', class_ = 'wikitable')[2].find_all('tr')]"
   ]
  },
  {
   "cell_type": "code",
   "execution_count": 15,
   "metadata": {},
   "outputs": [
    {
     "data": {
      "text/plain": [
       "[<tr>\n",
       " <th></th>\n",
       " <th>Undergrad</th>\n",
       " <th>Grad/prof</th>\n",
       " <th>US census\n",
       " </th></tr>,\n",
       " <tr>\n",
       " <th>Asian\n",
       " </th>\n",
       " <td>21%</td>\n",
       " <td>13%</td>\n",
       " <td>5%\n",
       " </td></tr>,\n",
       " <tr>\n",
       " <th>Black\n",
       " </th>\n",
       " <td>9%</td>\n",
       " <td>5%</td>\n",
       " <td>12%\n",
       " </td></tr>,\n",
       " <tr>\n",
       " <th>Hispanic or Latino\n",
       " </th>\n",
       " <td>11%</td>\n",
       " <td>7%</td>\n",
       " <td>16%\n",
       " </td></tr>,\n",
       " <tr>\n",
       " <th>White\n",
       " </th>\n",
       " <td>37%</td>\n",
       " <td>38%</td>\n",
       " <td>64%\n",
       " </td></tr>,\n",
       " <tr>\n",
       " <th>Two or more races\n",
       " </th>\n",
       " <td>8%</td>\n",
       " <td>3%</td>\n",
       " <td>9%\n",
       " </td></tr>,\n",
       " <tr>\n",
       " <th>International\n",
       " </th>\n",
       " <td>12%</td>\n",
       " <td>32%</td>\n",
       " <td>N/A\n",
       " </td></tr>]"
      ]
     },
     "execution_count": 15,
     "metadata": {},
     "output_type": "execute_result"
    }
   ],
   "source": [
    "rows"
   ]
  },
  {
   "cell_type": "markdown",
   "metadata": {},
   "source": [
    "Get the Column names."
   ]
  },
  {
   "cell_type": "code",
   "execution_count": 16,
   "metadata": {},
   "outputs": [],
   "source": [
    "columns = [col.get_text().replace('\\n', '') for col in rows[0].find_all('th') if col.get_text()]"
   ]
  },
  {
   "cell_type": "code",
   "execution_count": 17,
   "metadata": {},
   "outputs": [
    {
     "data": {
      "text/plain": [
       "['Undergrad', 'Grad/prof', 'US census']"
      ]
     },
     "execution_count": 17,
     "metadata": {},
     "output_type": "execute_result"
    }
   ],
   "source": [
    "columns"
   ]
  },
  {
   "cell_type": "markdown",
   "metadata": {},
   "source": [
    "Get the Index."
   ]
  },
  {
   "cell_type": "code",
   "execution_count": 18,
   "metadata": {},
   "outputs": [],
   "source": [
    "indexes = [indx.find('th').get_text().replace('\\n', '') for indx in rows[1:]]"
   ]
  },
  {
   "cell_type": "code",
   "execution_count": 19,
   "metadata": {},
   "outputs": [
    {
     "data": {
      "text/plain": [
       "['Asian',\n",
       " 'Black',\n",
       " 'Hispanic or Latino',\n",
       " 'White',\n",
       " 'Two or more races',\n",
       " 'International']"
      ]
     },
     "execution_count": 19,
     "metadata": {},
     "output_type": "execute_result"
    }
   ],
   "source": [
    "indexes"
   ]
  },
  {
   "cell_type": "code",
   "execution_count": 20,
   "metadata": {},
   "outputs": [],
   "source": [
    "import numpy as np\n",
    "import pandas as pd"
   ]
  },
  {
   "cell_type": "code",
   "execution_count": 21,
   "metadata": {
    "scrolled": false
   },
   "outputs": [],
   "source": [
    "values = []\n",
    "\n",
    "for row in rows[1:]:\n",
    "    for r in row.find_all('td'):\n",
    "        values.append(r.text.replace('%', ''))"
   ]
  },
  {
   "cell_type": "code",
   "execution_count": 22,
   "metadata": {},
   "outputs": [],
   "source": [
    "values = [v.replace('\\n', '') for v in values]"
   ]
  },
  {
   "cell_type": "code",
   "execution_count": 23,
   "metadata": {},
   "outputs": [
    {
     "data": {
      "text/plain": [
       "['21',\n",
       " '13',\n",
       " '5',\n",
       " '9',\n",
       " '5',\n",
       " '12',\n",
       " '11',\n",
       " '7',\n",
       " '16',\n",
       " '37',\n",
       " '38',\n",
       " '64',\n",
       " '8',\n",
       " '3',\n",
       " '9',\n",
       " '12',\n",
       " '32',\n",
       " 'N/A']"
      ]
     },
     "execution_count": 23,
     "metadata": {},
     "output_type": "execute_result"
    }
   ],
   "source": [
    "values"
   ]
  },
  {
   "cell_type": "code",
   "execution_count": 24,
   "metadata": {},
   "outputs": [
    {
     "data": {
      "text/plain": [
       "[21.0,\n",
       " 13.0,\n",
       " 5.0,\n",
       " 9.0,\n",
       " 5.0,\n",
       " 12.0,\n",
       " 11.0,\n",
       " 7.0,\n",
       " 16.0,\n",
       " 37.0,\n",
       " 38.0,\n",
       " 64.0,\n",
       " 8.0,\n",
       " 3.0,\n",
       " 9.0,\n",
       " 12.0,\n",
       " 32.0,\n",
       " nan]"
      ]
     },
     "execution_count": 24,
     "metadata": {},
     "output_type": "execute_result"
    }
   ],
   "source": [
    "values = [float(v) for v in values if v != 'N/A']\n",
    "values.append(np.nan)\n",
    "values"
   ]
  },
  {
   "cell_type": "code",
   "execution_count": 25,
   "metadata": {},
   "outputs": [],
   "source": [
    "import numpy as np\n",
    "import pandas as pd"
   ]
  },
  {
   "cell_type": "code",
   "execution_count": 26,
   "metadata": {},
   "outputs": [],
   "source": [
    "values = np.array(values).reshape(6,3)"
   ]
  },
  {
   "cell_type": "code",
   "execution_count": 27,
   "metadata": {},
   "outputs": [
    {
     "data": {
      "text/html": [
       "<div>\n",
       "<style scoped>\n",
       "    .dataframe tbody tr th:only-of-type {\n",
       "        vertical-align: middle;\n",
       "    }\n",
       "\n",
       "    .dataframe tbody tr th {\n",
       "        vertical-align: top;\n",
       "    }\n",
       "\n",
       "    .dataframe thead th {\n",
       "        text-align: right;\n",
       "    }\n",
       "</style>\n",
       "<table border=\"1\" class=\"dataframe\">\n",
       "  <thead>\n",
       "    <tr style=\"text-align: right;\">\n",
       "      <th></th>\n",
       "      <th>Undergrad</th>\n",
       "      <th>Grad/prof</th>\n",
       "      <th>US census</th>\n",
       "    </tr>\n",
       "  </thead>\n",
       "  <tbody>\n",
       "    <tr>\n",
       "      <th>Asian</th>\n",
       "      <td>21.0</td>\n",
       "      <td>13.0</td>\n",
       "      <td>5.0</td>\n",
       "    </tr>\n",
       "    <tr>\n",
       "      <th>Black</th>\n",
       "      <td>9.0</td>\n",
       "      <td>5.0</td>\n",
       "      <td>12.0</td>\n",
       "    </tr>\n",
       "    <tr>\n",
       "      <th>Hispanic or Latino</th>\n",
       "      <td>11.0</td>\n",
       "      <td>7.0</td>\n",
       "      <td>16.0</td>\n",
       "    </tr>\n",
       "    <tr>\n",
       "      <th>White</th>\n",
       "      <td>37.0</td>\n",
       "      <td>38.0</td>\n",
       "      <td>64.0</td>\n",
       "    </tr>\n",
       "    <tr>\n",
       "      <th>Two or more races</th>\n",
       "      <td>8.0</td>\n",
       "      <td>3.0</td>\n",
       "      <td>9.0</td>\n",
       "    </tr>\n",
       "    <tr>\n",
       "      <th>International</th>\n",
       "      <td>12.0</td>\n",
       "      <td>32.0</td>\n",
       "      <td>NaN</td>\n",
       "    </tr>\n",
       "  </tbody>\n",
       "</table>\n",
       "</div>"
      ],
      "text/plain": [
       "                    Undergrad  Grad/prof  US census\n",
       "Asian                    21.0       13.0        5.0\n",
       "Black                     9.0        5.0       12.0\n",
       "Hispanic or Latino       11.0        7.0       16.0\n",
       "White                    37.0       38.0       64.0\n",
       "Two or more races         8.0        3.0        9.0\n",
       "International            12.0       32.0        NaN"
      ]
     },
     "execution_count": 27,
     "metadata": {},
     "output_type": "execute_result"
    }
   ],
   "source": [
    "df = pd.DataFrame(values, columns = columns, index = indexes)\n",
    "df"
   ]
  },
  {
   "cell_type": "code",
   "execution_count": 28,
   "metadata": {},
   "outputs": [
    {
     "data": {
      "text/html": [
       "<table class=\"wikitable\" style=\"text-align:center; float:right; font-size:85%; margin-right:2em;\">\n",
       "<caption><i>Demographics of student body (Fall 2019)</i><sup class=\"reference\" id=\"cite_ref-Head_count_155-0\"><a href=\"#cite_note-Head_count-155\">[155]</a></sup><sup class=\"reference\" id=\"cite_ref-156\"><a href=\"#cite_note-156\">[156]</a></sup><sup class=\"reference\" id=\"cite_ref-157\"><a href=\"#cite_note-157\">[157]</a></sup><sup class=\"reference\" id=\"cite_ref-158\"><a href=\"#cite_note-158\">[158]</a></sup>\n",
       "</caption>\n",
       "<tbody><tr>\n",
       "<th></th>\n",
       "<th>Undergrad</th>\n",
       "<th>Grad/prof</th>\n",
       "<th>US census\n",
       "</th></tr>\n",
       "<tr>\n",
       "<th>Asian\n",
       "</th>\n",
       "<td>21%</td>\n",
       "<td>13%</td>\n",
       "<td>5%\n",
       "</td></tr>\n",
       "<tr>\n",
       "<th>Black\n",
       "</th>\n",
       "<td>9%</td>\n",
       "<td>5%</td>\n",
       "<td>12%\n",
       "</td></tr>\n",
       "<tr>\n",
       "<th>Hispanic or Latino\n",
       "</th>\n",
       "<td>11%</td>\n",
       "<td>7%</td>\n",
       "<td>16%\n",
       "</td></tr>\n",
       "<tr>\n",
       "<th>White\n",
       "</th>\n",
       "<td>37%</td>\n",
       "<td>38%</td>\n",
       "<td>64%\n",
       "</td></tr>\n",
       "<tr>\n",
       "<th>Two or more races\n",
       "</th>\n",
       "<td>8%</td>\n",
       "<td>3%</td>\n",
       "<td>9%\n",
       "</td></tr>\n",
       "<tr>\n",
       "<th>International\n",
       "</th>\n",
       "<td>12%</td>\n",
       "<td>32%</td>\n",
       "<td>N/A\n",
       "</td></tr></tbody></table>"
      ],
      "text/plain": [
       "<IPython.core.display.HTML object>"
      ]
     },
     "execution_count": 28,
     "metadata": {},
     "output_type": "execute_result"
    }
   ],
   "source": [
    "HTML(my_table)"
   ]
  },
  {
   "cell_type": "code",
   "execution_count": null,
   "metadata": {},
   "outputs": [],
   "source": []
  }
 ],
 "metadata": {
  "kernelspec": {
   "display_name": "nlp_course",
   "language": "python",
   "name": "nlp_course"
  },
  "language_info": {
   "codemirror_mode": {
    "name": "ipython",
    "version": 3
   },
   "file_extension": ".py",
   "mimetype": "text/x-python",
   "name": "python",
   "nbconvert_exporter": "python",
   "pygments_lexer": "ipython3",
   "version": "3.7.6"
  }
 },
 "nbformat": 4,
 "nbformat_minor": 2
}
